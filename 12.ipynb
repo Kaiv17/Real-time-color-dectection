{
 "cells": [
  {
   "cell_type": "code",
   "execution_count": 11,
   "metadata": {},
   "outputs": [],
   "source": [
    "import cv2\n",
    "#from colorthief import ColorThief\n",
    "import numpy as np\n",
    "import pandas as pd\n",
    "import matplotlib.image as mpimg"
   ]
  },
  {
   "cell_type": "code",
   "execution_count": 12,
   "metadata": {},
   "outputs": [],
   "source": [
    "import extcolors\n",
    "\n",
    "from colormap import rgb2hex"
   ]
  },
  {
   "cell_type": "code",
   "execution_count": 13,
   "metadata": {},
   "outputs": [],
   "source": [
    "camera=cv2.VideoCapture(0)\n",
    "while True:\n",
    "    _, image=camera.read()\n",
    "    cv2.imshow('image', image)\n",
    "    if cv2.waitKey(1)& 0xFF==ord('s'):\n",
    "        cv2.imwrite('test1.jpg', image)\n",
    "        break\n",
    "camera.release()\n",
    "cv2.destroyAllWindows()\n",
    "#def getcolor():\n",
    "    #ColorThief=ColorThief('test1.jpg')\n",
    "    #colors=ColorThief.get_pallete(color_count=2)\n",
    "    #print(colors)\n",
    "#getcolor()\n"
   ]
  },
  {
   "cell_type": "code",
   "execution_count": 14,
   "metadata": {},
   "outputs": [
    {
     "data": {
      "text/plain": [
       "([((10, 8, 9), 51512),\n",
       "  ((186, 197, 193), 42812),\n",
       "  ((154, 154, 154), 27020),\n",
       "  ((60, 58, 33), 24147),\n",
       "  ((39, 17, 6), 20924),\n",
       "  ((37, 37, 37), 20174),\n",
       "  ((100, 100, 98), 17024),\n",
       "  ((157, 112, 91), 14150),\n",
       "  ((65, 63, 64), 14050),\n",
       "  ((87, 59, 20), 9174),\n",
       "  ((124, 89, 57), 6359),\n",
       "  ((167, 105, 68), 5767)],\n",
       " 307200)"
      ]
     },
     "execution_count": 14,
     "metadata": {},
     "output_type": "execute_result"
    }
   ],
   "source": [
    "colors_x = extcolors.extract_from_path('test1.jpg', tolerance = 12, limit = 12)\n",
    "colors_x"
   ]
  },
  {
   "cell_type": "code",
   "execution_count": 15,
   "metadata": {},
   "outputs": [
    {
     "data": {
      "text/html": [
       "<div>\n",
       "<style scoped>\n",
       "    .dataframe tbody tr th:only-of-type {\n",
       "        vertical-align: middle;\n",
       "    }\n",
       "\n",
       "    .dataframe tbody tr th {\n",
       "        vertical-align: top;\n",
       "    }\n",
       "\n",
       "    .dataframe thead th {\n",
       "        text-align: right;\n",
       "    }\n",
       "</style>\n",
       "<table border=\"1\" class=\"dataframe\">\n",
       "  <thead>\n",
       "    <tr style=\"text-align: right;\">\n",
       "      <th></th>\n",
       "      <th>c_code</th>\n",
       "      <th>occurence</th>\n",
       "    </tr>\n",
       "  </thead>\n",
       "  <tbody>\n",
       "    <tr>\n",
       "      <th>0</th>\n",
       "      <td>#0A0809</td>\n",
       "      <td>51512</td>\n",
       "    </tr>\n",
       "    <tr>\n",
       "      <th>1</th>\n",
       "      <td>#BAC5C1</td>\n",
       "      <td>42812</td>\n",
       "    </tr>\n",
       "    <tr>\n",
       "      <th>2</th>\n",
       "      <td>#9A9A9A</td>\n",
       "      <td>27020</td>\n",
       "    </tr>\n",
       "    <tr>\n",
       "      <th>3</th>\n",
       "      <td>#3C3A21</td>\n",
       "      <td>24147</td>\n",
       "    </tr>\n",
       "    <tr>\n",
       "      <th>4</th>\n",
       "      <td>#271106</td>\n",
       "      <td>20924</td>\n",
       "    </tr>\n",
       "    <tr>\n",
       "      <th>5</th>\n",
       "      <td>#252525</td>\n",
       "      <td>20174</td>\n",
       "    </tr>\n",
       "    <tr>\n",
       "      <th>6</th>\n",
       "      <td>#646462</td>\n",
       "      <td>17024</td>\n",
       "    </tr>\n",
       "    <tr>\n",
       "      <th>7</th>\n",
       "      <td>#9D705B</td>\n",
       "      <td>14150</td>\n",
       "    </tr>\n",
       "    <tr>\n",
       "      <th>8</th>\n",
       "      <td>#413F40</td>\n",
       "      <td>14050</td>\n",
       "    </tr>\n",
       "    <tr>\n",
       "      <th>9</th>\n",
       "      <td>#573B14</td>\n",
       "      <td>9174</td>\n",
       "    </tr>\n",
       "    <tr>\n",
       "      <th>10</th>\n",
       "      <td>#7C5939</td>\n",
       "      <td>6359</td>\n",
       "    </tr>\n",
       "  </tbody>\n",
       "</table>\n",
       "</div>"
      ],
      "text/plain": [
       "     c_code occurence\n",
       "0   #0A0809     51512\n",
       "1   #BAC5C1     42812\n",
       "2   #9A9A9A     27020\n",
       "3   #3C3A21     24147\n",
       "4   #271106     20924\n",
       "5   #252525     20174\n",
       "6   #646462     17024\n",
       "7   #9D705B     14150\n",
       "8   #413F40     14050\n",
       "9   #573B14      9174\n",
       "10  #7C5939      6359"
      ]
     },
     "execution_count": 15,
     "metadata": {},
     "output_type": "execute_result"
    }
   ],
   "source": [
    "def color_to_df(input):\n",
    "    colors_pre_list = str(input).replace('([(','').split(', (')[0:-1]\n",
    "    df_rgb = [i.split('), ')[0] + ')' for i in colors_pre_list]\n",
    "    df_percent = [i.split('), ')[1].replace(')','') for i in colors_pre_list]\n",
    "    \n",
    "    #convert RGB to HEX code\n",
    "    df_color_up = [rgb2hex(int(i.split(\", \")[0].replace(\"(\",\"\")),\n",
    "                          int(i.split(\", \")[1]),\n",
    "                          int(i.split(\", \")[2].replace(\")\",\"\"))) for i in df_rgb]\n",
    "    \n",
    "    df = pd.DataFrame(zip(df_color_up, df_percent), columns = ['c_code','occurence'])\n",
    "    return df\n",
    "\n",
    "df_color = color_to_df(colors_x)\n",
    "df_color"
   ]
  }
 ],
 "metadata": {
  "kernelspec": {
   "display_name": "Python 3 (ipykernel)",
   "language": "python",
   "name": "python3"
  },
  "language_info": {
   "codemirror_mode": {
    "name": "ipython",
    "version": 3
   },
   "file_extension": ".py",
   "mimetype": "text/x-python",
   "name": "python",
   "nbconvert_exporter": "python",
   "pygments_lexer": "ipython3",
   "version": "3.9.13"
  },
  "vscode": {
   "interpreter": {
    "hash": "ea19a8f8202ddbd94013021aa9f19310c65bf91759e3afc0108cdd5462deb674"
   }
  }
 },
 "nbformat": 4,
 "nbformat_minor": 2
}
